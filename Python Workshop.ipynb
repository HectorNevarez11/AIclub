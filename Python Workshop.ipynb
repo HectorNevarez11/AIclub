{
 "cells": [
  {
   "cell_type": "markdown",
   "metadata": {},
   "source": [
    "# Semicolons and Curly Braces\n",
    "Unlike java, python does not rely on curly braces or semicolons in order to mark the ends of either a line of code or a code block. For example a java statement such as:\n",
    "\n",
    "public class HelloWorld{\n",
    "    public static void main(String[]args){\n",
    "        int number = 10;\n",
    "        if (number == 10){\n",
    "            System.out.println(\"Hello World\");\n",
    "            number = 20;\n",
    "        }\n",
    "    }\n",
    "}\n",
    "\n",
    "In python can be written as:"
   ]
  },
  {
   "cell_type": "code",
   "execution_count": 2,
   "metadata": {},
   "outputs": [
    {
     "name": "stdout",
     "output_type": "stream",
     "text": [
      "Hello World\n"
     ]
    }
   ],
   "source": [
    "number = 10 #no semicolon\n",
    "if number == 10: #no curly braces\n",
    "    print(\"Hello World\")\n",
    "    number = 20"
   ]
  },
  {
   "cell_type": "markdown",
   "metadata": {},
   "source": [
    "# Comments\n",
    "Comments in python are different from java.\n",
    "\n",
    "public class HelloWorld{\n",
    "    public static void main(String[]args){\n",
    "        int number = 10; //in java this is a single line comment\n",
    "\n",
    "        /*\n",
    "        And this is a multi line\n",
    "        comment\n",
    "        */\n",
    "        \n",
    "    }\n",
    "}"
   ]
  },
  {
   "cell_type": "code",
   "execution_count": 3,
   "metadata": {},
   "outputs": [
    {
     "name": "stdout",
     "output_type": "stream",
     "text": [
      "Python is so easy\n"
     ]
    }
   ],
   "source": [
    "number = 10 #the pount represents a single line comment\n",
    "'''\n",
    "While three apostraphes \n",
    "represent multi line comments\n",
    "'''\n",
    "print(\"Python is so easy\")\n"
   ]
  },
  {
   "cell_type": "code",
   "execution_count": null,
   "metadata": {},
   "outputs": [],
   "source": []
  }
 ],
 "metadata": {
  "kernelspec": {
   "display_name": "Python 3",
   "language": "python",
   "name": "python3"
  },
  "language_info": {
   "codemirror_mode": {
    "name": "ipython",
    "version": 3
   },
   "file_extension": ".py",
   "mimetype": "text/x-python",
   "name": "python",
   "nbconvert_exporter": "python",
   "pygments_lexer": "ipython3",
   "version": "3.7.6"
  }
 },
 "nbformat": 4,
 "nbformat_minor": 4
}
